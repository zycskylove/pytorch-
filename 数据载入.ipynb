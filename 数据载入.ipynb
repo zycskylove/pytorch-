{
 "cells": [
  {
   "cell_type": "code",
   "execution_count": 90,
   "id": "602bd81c",
   "metadata": {},
   "outputs": [],
   "source": [
    "import torch\n",
    "import torchvision\n",
    "import pandas as pd\n",
    "import numpy as np\n",
    "import matplotlib.pyplot as plt"
   ]
  },
  {
   "cell_type": "markdown",
   "id": "3b548514",
   "metadata": {},
   "source": [
    "# 对于torchvision存在的数据集"
   ]
  },
  {
   "cell_type": "markdown",
   "id": "0d2b3fc2",
   "metadata": {},
   "source": [
    "tensor的数据储存结构为(batch,channel,high,weight)\n",
    "\n",
    "先载入训练集"
   ]
  },
  {
   "cell_type": "code",
   "execution_count": 93,
   "id": "eb07bceb",
   "metadata": {},
   "outputs": [],
   "source": [
    "mnist_train=torchvision.datasets.MNIST(root='../mnist/',\n",
    "    train=True,                                    # 如果这里选择True，载入的就是训练集，如果为False，载入的就是测试集\n",
    "    transform=torchvision.transforms.Compose([\n",
    "        torchvision.transforms.ToTensor(),                   # 将PIL格式转换为tensor \n",
    "        torchvision.transforms.Normalize((0.1307,), (0.3081,))]),        # normalize in the range [0.0, 1.0]\n",
    "        #如果图片是灰度图，那么normalize就是一个如上格式且数字后带逗号的格式(mean1,),(std1,)\n",
    "        #如果图片为彩色图片，则为(mean1,mean2,mean3),(std1,std2,std3)\n",
    "    download=True)    #选择true代表下载数据集"
   ]
  },
  {
   "cell_type": "markdown",
   "id": "cea1a789",
   "metadata": {},
   "source": [
    "再载入测试集"
   ]
  },
  {
   "cell_type": "code",
   "execution_count": 153,
   "id": "25002d51",
   "metadata": {},
   "outputs": [],
   "source": [
    "mnist_test=torchvision.datasets.MNIST(root='../mnist/',\n",
    "    train=False,                                    # 如果这里选择True，载入的就是训练集，如果为False，载入的就是测试集\n",
    "    transform=torchvision.transforms.Compose([\n",
    "        torchvision.transforms.ToTensor(),                   # 将PIL格式转换为tensor \n",
    "        torchvision.transforms.Normalize((0.1307,), (0.3081,))]),        # normalize in the range [0.0, 1.0]\n",
    "        #如果图片是灰度图，那么normalize就是一个如上格式且数字后带逗号的格式(mean1,),(std1,)\n",
    "        #如果图片为彩色图片，则为(mean1,mean2,mean3),(std1,std2,std3)\n",
    "    download=True)    #选择true代表下载数据集"
   ]
  },
  {
   "cell_type": "code",
   "execution_count": 99,
   "id": "9f66c15e",
   "metadata": {},
   "outputs": [
    {
     "data": {
      "text/plain": [
       "['__add__',\n",
       " '__class__',\n",
       " '__class_getitem__',\n",
       " '__delattr__',\n",
       " '__dict__',\n",
       " '__dir__',\n",
       " '__doc__',\n",
       " '__eq__',\n",
       " '__format__',\n",
       " '__ge__',\n",
       " '__getattribute__',\n",
       " '__getitem__',\n",
       " '__gt__',\n",
       " '__hash__',\n",
       " '__init__',\n",
       " '__init_subclass__',\n",
       " '__le__',\n",
       " '__len__',\n",
       " '__lt__',\n",
       " '__module__',\n",
       " '__ne__',\n",
       " '__new__',\n",
       " '__orig_bases__',\n",
       " '__parameters__',\n",
       " '__reduce__',\n",
       " '__reduce_ex__',\n",
       " '__repr__',\n",
       " '__setattr__',\n",
       " '__sizeof__',\n",
       " '__slots__',\n",
       " '__str__',\n",
       " '__subclasshook__',\n",
       " '__weakref__',\n",
       " '_check_exists',\n",
       " '_check_legacy_exist',\n",
       " '_format_transform_repr',\n",
       " '_is_protocol',\n",
       " '_load_data',\n",
       " '_load_legacy_data',\n",
       " '_repr_indent',\n",
       " 'class_to_idx',\n",
       " 'classes',\n",
       " 'data',\n",
       " 'download',\n",
       " 'extra_repr',\n",
       " 'mirrors',\n",
       " 'processed_folder',\n",
       " 'raw_folder',\n",
       " 'resources',\n",
       " 'root',\n",
       " 'target_transform',\n",
       " 'targets',\n",
       " 'test_data',\n",
       " 'test_file',\n",
       " 'test_labels',\n",
       " 'train',\n",
       " 'train_data',\n",
       " 'train_labels',\n",
       " 'training_file',\n",
       " 'transform',\n",
       " 'transforms']"
      ]
     },
     "execution_count": 99,
     "metadata": {},
     "output_type": "execute_result"
    }
   ],
   "source": [
    "dir(mnist_train)   #该方法可以查看载入的数据集的属性\n",
    "#mnist_train.__dir__()    这样也可以，但不会进行排序"
   ]
  },
  {
   "cell_type": "code",
   "execution_count": 104,
   "id": "e02dbb49",
   "metadata": {},
   "outputs": [
    {
     "data": {
      "text/plain": [
       "tensor([5, 0, 4,  ..., 5, 6, 8])"
      ]
     },
     "execution_count": 104,
     "metadata": {},
     "output_type": "execute_result"
    }
   ],
   "source": [
    "mnist_train.data    #可以通过.data查看数据集的特征\n",
    "mnist_train.targets  #可以通过.targets查看数据集的标签"
   ]
  },
  {
   "cell_type": "markdown",
   "id": "174abce6",
   "metadata": {},
   "source": [
    "直接使用torch.utils.data.DataLoader对数据集进行batch"
   ]
  },
  {
   "cell_type": "code",
   "execution_count": 105,
   "id": "abc21d11",
   "metadata": {},
   "outputs": [],
   "source": [
    "train_loader=torch.utils.data.DataLoader(\n",
    "    dataset=mnist_train,      #导入对应的训练集\n",
    "    batch_size=5000,          #一个batch_size的大小，要根据数据集的shape来设置\n",
    "    shuffle=True,             #该选项为True就打乱数据集\n",
    "    drop_last=True)                 #该选项为True就把batch_size里面不够的那一块扔了"
   ]
  },
  {
   "cell_type": "code",
   "execution_count": 106,
   "id": "e0667cda",
   "metadata": {},
   "outputs": [],
   "source": [
    "test_loader=torch.utils.data.DataLoader(\n",
    "    dataset=mnist_test,      #导入对应的训练集\n",
    "    batch_size=5000,          #一个batch_size的大小，要根据数据集的shape来设置\n",
    "    shuffle=True,             #该选项为True就打乱数据集\n",
    "    drop_last=True)                 #该选项为True就把batch_size里面不够的那一块扔了"
   ]
  },
  {
   "cell_type": "markdown",
   "id": "04f7e47f",
   "metadata": {},
   "source": [
    "分批次读取训练集"
   ]
  },
  {
   "cell_type": "code",
   "execution_count": 196,
   "id": "97ddfd61",
   "metadata": {},
   "outputs": [
    {
     "name": "stdout",
     "output_type": "stream",
     "text": [
      "0 \n",
      " torch.Size([5000, 784]) \n",
      " torch.Size([5000]) \n",
      "\n",
      "1 \n",
      " torch.Size([5000, 784]) \n",
      " torch.Size([5000]) \n",
      "\n",
      "2 \n",
      " torch.Size([5000, 784]) \n",
      " torch.Size([5000]) \n",
      "\n",
      "3 \n",
      " torch.Size([5000, 784]) \n",
      " torch.Size([5000]) \n",
      "\n",
      "4 \n",
      " torch.Size([5000, 784]) \n",
      " torch.Size([5000]) \n",
      "\n",
      "5 \n",
      " torch.Size([5000, 784]) \n",
      " torch.Size([5000]) \n",
      "\n",
      "6 \n",
      " torch.Size([5000, 784]) \n",
      " torch.Size([5000]) \n",
      "\n",
      "7 \n",
      " torch.Size([5000, 784]) \n",
      " torch.Size([5000]) \n",
      "\n"
     ]
    }
   ],
   "source": [
    "for batch,(b_x,b_y) in enumerate(train_loader):   #batch为划分好的批次，b_x为训练集的特征，b_y为训练集的标签\n",
    "    print(batch,\"\\n\",b_x.shape,\"\\n\",b_y.shape,\"\\n\")"
   ]
  },
  {
   "cell_type": "markdown",
   "id": "4e838b50",
   "metadata": {},
   "source": [
    "分批次读取测试集"
   ]
  },
  {
   "cell_type": "code",
   "execution_count": 181,
   "id": "0566bbd6",
   "metadata": {},
   "outputs": [
    {
     "name": "stdout",
     "output_type": "stream",
     "text": [
      "0 \n",
      " torch.Size([5000, 783]) \n",
      " torch.Size([5000]) \n",
      "\n",
      "1 \n",
      " torch.Size([5000, 783]) \n",
      " torch.Size([5000]) \n",
      "\n",
      "2 \n",
      " torch.Size([5000, 783]) \n",
      " torch.Size([5000]) \n",
      "\n",
      "3 \n",
      " torch.Size([5000, 783]) \n",
      " torch.Size([5000]) \n",
      "\n",
      "4 \n",
      " torch.Size([5000, 783]) \n",
      " torch.Size([5000]) \n",
      "\n"
     ]
    }
   ],
   "source": [
    "for batch,(b_x,b_y) in enumerate(test_loader):   #batch为划分好的批次，b_x为测试集的特征，b_y为测试集的标签\n",
    "    print(batch,\"\\n\",b_x.shape,\"\\n\",b_y.shape,\"\\n\")"
   ]
  },
  {
   "attachments": {
    "image.png": {
     "image/png": "[encoded data removed]"
    }
   },
   "cell_type": "markdown",
   "id": "d8d37423",
   "metadata": {},
   "source": [
    "可以根据训练集打印前五张图片看看\n",
    "\n",
    "imshow的图片读取格式为(h,w,c)\n",
    "![image.png](attachment:image.png)"
   ]
  },
  {
   "cell_type": "code",
   "execution_count": 203,
   "id": "63f9f4fa",
   "metadata": {},
   "outputs": [
    {
     "data": {
      "image/png": "[encoded data removed]",
      "text/plain": [
       "<Figure size 432x288 with 5 Axes>"
      ]
     },
     "metadata": {
      "needs_background": "light"
     },
     "output_type": "display_data"
    }
   ],
   "source": [
    "plt.figure()\n",
    "for i in range(5):\n",
    "    plt.subplot(1,5,i+1)\n",
    "    plt.imshow(b_x[i,:].reshape(-1,28,28).permute(1,2,0),cmap=\"rainbow\")    #利用permute方法可以转换图片的通道，通过cmap参数可以改变图像的color    \n",
    "    plt.title(b_y[i].numpy())          #将targets转变为numpy格式可以更美观的输出\n",
    "    plt.axis(\"off\")"
   ]
  },
  {
   "cell_type": "markdown",
   "id": "8a2851ea",
   "metadata": {},
   "source": [
    "# 自己导入的数据集（不重写dataset类）"
   ]
  },
  {
   "cell_type": "markdown",
   "id": "0eb8fe6c",
   "metadata": {},
   "source": [
    "可以使用pandas进行数据的导入"
   ]
  },
  {
   "cell_type": "code",
   "execution_count": 141,
   "id": "b2a05a1a",
   "metadata": {},
   "outputs": [],
   "source": [
    "train=pd.read_csv(r\"C:\\Users\\Administrator\\Desktop\\手写数字识别\\train.csv\").values     #通过.values转化为numpy格式提高运行效率\n",
    "test=pd.read_csv(r\"C:\\Users\\Administrator\\Desktop\\手写数字识别\\test.csv\").values       #通过.values转化为numpy格式提高运行效率"
   ]
  },
  {
   "cell_type": "markdown",
   "id": "d7ba5bcd",
   "metadata": {},
   "source": [
    "进行特征和标签的划分"
   ]
  },
  {
   "cell_type": "code",
   "execution_count": 209,
   "id": "062be5cf",
   "metadata": {},
   "outputs": [],
   "source": [
    "train_data=torch.tensor(train[:,1:],dtype=torch.float32)\n",
    "train_targets=torch.tensor(train[:,0],dtype=torch.int)\n",
    "test_data=torch.tensor(test,dtype=torch.float32)   #由于该数据集的测试集没有只有特征没有标签，所以不进行标签划分"
   ]
  },
  {
   "cell_type": "markdown",
   "id": "46c9b4b5",
   "metadata": {},
   "source": [
    "进行批次划分"
   ]
  },
  {
   "cell_type": "code",
   "execution_count": 210,
   "id": "df561db2",
   "metadata": {},
   "outputs": [],
   "source": [
    "train_loader=torch.utils.data.DataLoader(\n",
    "    dataset=[*zip(train_data,train_targets)],      #导入对应的训练集的特征和标签\n",
    "    batch_size=5000,          #一个batch_size的大小，要根据数据集的shape来设置\n",
    "    shuffle=True,             #该选项为True就打乱数据集\n",
    "    drop_last=True)                 #该选项为True就把batch_size里面不够的那一块扔了\n",
    "\n",
    "test_loader=torch.utils.data.DataLoader(\n",
    "    dataset=test_data,      #导入对应的测试集的特征和标签\n",
    "    batch_size=5000,          #一个batch_size的大小，要根据数据集的shape来设置\n",
    "    shuffle=True,             #该选项为True就打乱数据集\n",
    "    drop_last=True)                 #该选项为True就把batch_size里面不够的那一块扔了"
   ]
  },
  {
   "cell_type": "markdown",
   "id": "7db5bf68",
   "metadata": {},
   "source": [
    "进行批次读取"
   ]
  },
  {
   "cell_type": "code",
   "execution_count": 214,
   "id": "af752af4",
   "metadata": {},
   "outputs": [
    {
     "name": "stdout",
     "output_type": "stream",
     "text": [
      "0 \n",
      " torch.Size([5000, 784]) \n",
      " torch.Size([5000]) \n",
      "\n",
      "1 \n",
      " torch.Size([5000, 784]) \n",
      " torch.Size([5000]) \n",
      "\n",
      "2 \n",
      " torch.Size([5000, 784]) \n",
      " torch.Size([5000]) \n",
      "\n",
      "3 \n",
      " torch.Size([5000, 784]) \n",
      " torch.Size([5000]) \n",
      "\n",
      "4 \n",
      " torch.Size([5000, 784]) \n",
      " torch.Size([5000]) \n",
      "\n",
      "5 \n",
      " torch.Size([5000, 784]) \n",
      " torch.Size([5000]) \n",
      "\n",
      "6 \n",
      " torch.Size([5000, 784]) \n",
      " torch.Size([5000]) \n",
      "\n",
      "7 \n",
      " torch.Size([5000, 784]) \n",
      " torch.Size([5000]) \n",
      "\n"
     ]
    },
    {
     "data": {
      "image/png": "[encoded data removed]",
      "text/plain": [
       "<Figure size 432x288 with 5 Axes>"
      ]
     },
     "metadata": {
      "needs_background": "light"
     },
     "output_type": "display_data"
    }
   ],
   "source": [
    "for batch,(b_x,b_y) in enumerate(train_loader):\n",
    "    print(batch,\"\\n\",b_x.shape,\"\\n\",b_y.shape,\"\\n\")\n",
    "    \n",
    "#训练集的前五张打印看看\n",
    "plt.figure()\n",
    "for i in range(5):\n",
    "    plt.subplot(1,5,i+1)\n",
    "    plt.imshow(b_x[i,:].reshape(-1,28,28).permute(1,2,0),cmap=\"rainbow\")    #利用permute方法可以转换图片的通道，通过cmap参数可以改变图像的color    \n",
    "    plt.title(b_y[i].numpy())          #将targets转变为numpy格式可以更美观的输出\n",
    "    plt.axis(\"off\")"
   ]
  },
  {
   "cell_type": "code",
   "execution_count": 215,
   "id": "7f951cd3",
   "metadata": {},
   "outputs": [
    {
     "name": "stdout",
     "output_type": "stream",
     "text": [
      "0 \n",
      " torch.Size([5000, 784]) \n",
      "\n",
      "1 \n",
      " torch.Size([5000, 784]) \n",
      "\n",
      "2 \n",
      " torch.Size([5000, 784]) \n",
      "\n",
      "3 \n",
      " torch.Size([5000, 784]) \n",
      "\n",
      "4 \n",
      " torch.Size([5000, 784]) \n",
      "\n"
     ]
    },
    {
     "data": {
      "image/png": "[encoded data removed]",
      "text/plain": [
       "<Figure size 432x288 with 5 Axes>"
      ]
     },
     "metadata": {
      "needs_background": "light"
     },
     "output_type": "display_data"
    }
   ],
   "source": [
    "for batch,b_x in enumerate(test_loader):\n",
    "    print(batch,\"\\n\",b_x.shape,\"\\n\")\n",
    "\n",
    "#测试集的前五张打印看看\n",
    "plt.figure()\n",
    "for i in range(5):\n",
    "    plt.subplot(1,5,i+1)\n",
    "    plt.imshow(b_x[i,:].reshape(-1,28,28).permute(1,2,0),cmap=\"rainbow\")    #利用permute方法可以转换图片的通道，通过cmap参数可以改变图像的color    \n",
    "    plt.axis(\"off\")"
   ]
  },
  {
   "cell_type": "code",
   "execution_count": null,
   "id": "0ef9df32",
   "metadata": {},
   "outputs": [],
   "source": [
    "|"
   ]
  }
 ],
 "metadata": {
  "kernelspec": {
   "display_name": "Python 3",
   "language": "python",
   "name": "python3"
  },
  "language_info": {
   "codemirror_mode": {
    "name": "ipython",
    "version": 3
   },
   "file_extension": ".py",
   "mimetype": "text/x-python",
   "name": "python",
   "nbconvert_exporter": "python",
   "pygments_lexer": "ipython3",
   "version": "3.8.8"
  }
 },
 "nbformat": 4,
 "nbformat_minor": 5
}
